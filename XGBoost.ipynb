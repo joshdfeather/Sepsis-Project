{
 "cells": [
  {
   "cell_type": "code",
   "execution_count": null,
   "id": "e647ec28-9856-4ab8-b0ec-5ea4f3009682",
   "metadata": {},
   "outputs": [],
   "source": [
    "from xgboost import XGBClassifier\n",
    "\n",
    "# Train XGBoost model with verbose output\n",
    "xgb_model = XGBClassifier(\n",
    "    n_estimators=500,          # More trees for stability\n",
    "    learning_rate=0.03,        # Lower learning rate\n",
    "    max_depth=5,               # Prevent deep trees\n",
    "    reg_lambda=10,             # Stronger L2 regularization\n",
    "    reg_alpha=5,               # Stronger L1 regularization\n",
    "    gamma=3,                   # Minimum loss reduction for split\n",
    "    n_jobs=-1                  # Use all CPU cores\n",
    ")\n",
    "\n",
    "print(\"\\n🚀 Training XGBoost model with verbose output...\")\n",
    "eval_set = [(X_train, y_train), (X_test, y_test)]\n",
    "xgb_model.set_params(eval_metric=\"auc\") \n",
    "xgb_model.fit(\n",
    "    X_train, y_train,\n",
    "    eval_set = eval_set,  # Show progress on train/test data\n",
    "    verbose = 10  # Enables printing\n",
    ")\n",
    "    \n",
    "# Make predictions\n",
    "y_pred = xgb_model.predict(X_test)\n",
    "y_pred_proba = xgb_model.predict_proba(X_test)[:, 1]  # Probability of class 1 (sepsis)\n",
    "\n",
    "# # Plot ROC Curve\n",
    "auc_score = roc_auc_score(y_test, y_pred_proba)\n",
    "fpr, tpr, _ = roc_curve(y_test, y_pred_proba)\n",
    "plt.figure(figsize=(8, 6))\n",
    "plt.plot(fpr, tpr, label=f\"AUC = {auc_score:.4f}\")\n",
    "plt.plot([0, 1], [0, 1], linestyle='--', color='gray')\n",
    "plt.xlabel(\"False Positive Rate\")\n",
    "plt.ylabel(\"True Positive Rate\")\n",
    "plt.title(\"ROC Curve\")\n",
    "plt.legend()\n",
    "plt.show()\n",
    "\n",
    "plt.figure(figsize=(12, fig_height))  # Wider & taller plot\n",
    "xgb.plot_importance(xgb_model, max_num_features=20)  # Show all features\n",
    "plt.title(\"Feature Importance (Expanded View)\")\n",
    "plt.xlabel(\"F-Score\")\n",
    "plt.ylabel(\"Features\")\n",
    "plt.savefig(\"large_figure.png\", dpi=600, bbox_inches='tight')\n",
    "plt.show()"
   ]
  }
 ],
 "metadata": {
  "kernelspec": {
   "display_name": "Python 3 (ipykernel)",
   "language": "python",
   "name": "python3"
  },
  "language_info": {
   "codemirror_mode": {
    "name": "ipython",
    "version": 3
   },
   "file_extension": ".py",
   "mimetype": "text/x-python",
   "name": "python",
   "nbconvert_exporter": "python",
   "pygments_lexer": "ipython3",
   "version": "3.11.5"
  }
 },
 "nbformat": 4,
 "nbformat_minor": 5
}
